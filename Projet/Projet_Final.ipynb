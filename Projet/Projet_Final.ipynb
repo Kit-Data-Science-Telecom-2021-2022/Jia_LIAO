{
 "cells": [
  {
   "cell_type": "code",
   "execution_count": 1,
   "id": "6b178d4e",
   "metadata": {},
   "outputs": [],
   "source": [
    "import datetime\n",
    "import pandas as pd\n",
    "import glob\n",
    "import requests\n",
    "from bs4 import BeautifulSoup\n",
    "import matplotlib.pyplot as plt\n",
    "import seaborn as sns"
   ]
  },
  {
   "cell_type": "markdown",
   "id": "4a3a4bb1",
   "metadata": {},
   "source": [
    "### Récupération des fichiers Excel avec les classements "
   ]
  },
  {
   "cell_type": "markdown",
   "id": "6edfec56",
   "metadata": {},
   "source": [
    "Note: Le premier voilier est arrivé le 27/01/2021 à 19:35:47, du coup on récupère des fichiers Excel jusqu'à cette date."
   ]
  },
  {
   "cell_type": "code",
   "execution_count": 2,
   "id": "1fcfe6de",
   "metadata": {},
   "outputs": [],
   "source": [
    "# Mettre en place une copie locale des fichiers Excel avec url comme \"https://www.vendeeglobe.org/download-race-data/vendeeglobe_20201108_140000.xlsx\"\n",
    "\n",
    "#strptime() : lire un datetime selon un format donné : string to time\n",
    "#strftime() : écrire un datetime selon un format donné : time to string\n",
    "start_date = datetime.datetime.strptime(\"20201108\", \"%Y%m%d\").date()\n",
    "end_date = datetime.datetime.strptime(\"20210127\", \"%Y%m%d\").date()\n",
    "time = [\"04\", \"08\", \"11\", \"14\", \"17\", \"21\"]\n",
    "\n",
    "date = start_date\n",
    "while date <= end_date:\n",
    "    for i in time:\n",
    "        url = 'https://www.vendeeglobe.org/download-race-data/vendeeglobe_' + date.strftime(\"%Y%m%d\") + '_' + i + '0000.xlsx'\n",
    "        r = requests.get(url)\n",
    "        if r.status_code == 200:\n",
    "            with open('files/' + date.strftime(\"%Y%m%d\") + '_' + i + '0000.xlsx', 'wb') as f:\n",
    "                f.write(r.content)\n",
    "                f.close\n",
    "    date += datetime.timedelta(days=1)"
   ]
  },
  {
   "cell_type": "code",
   "execution_count": 3,
   "id": "4f544b65",
   "metadata": {},
   "outputs": [],
   "source": [
    "#import xlwings\n",
    "\n",
    "#def xlsx_broken(file):\n",
    "#    excel_app = xlwings.App(visible=False)\n",
    "#    excel_book = excel_app.books.open(file)\n",
    "#    excel_book.save()\n",
    "#    excel_book.close()\n",
    "#    excel_app.quit()\n",
    "#    return\n",
    "\n",
    "#files = glob.glob('files/*.xlsx')\n",
    "#for filename in files:\n",
    "#    xlsx_broken(filename)"
   ]
  },
  {
   "cell_type": "markdown",
   "id": "a639fcf5",
   "metadata": {},
   "source": [
    "### Nettoyage et  concaténation des données "
   ]
  },
  {
   "cell_type": "code",
   "execution_count": 4,
   "id": "776ac7c4",
   "metadata": {},
   "outputs": [
    {
     "data": {
      "text/html": [
       "<div>\n",
       "<style scoped>\n",
       "    .dataframe tbody tr th:only-of-type {\n",
       "        vertical-align: middle;\n",
       "    }\n",
       "\n",
       "    .dataframe tbody tr th {\n",
       "        vertical-align: top;\n",
       "    }\n",
       "\n",
       "    .dataframe thead th {\n",
       "        text-align: right;\n",
       "    }\n",
       "</style>\n",
       "<table border=\"1\" class=\"dataframe\">\n",
       "  <thead>\n",
       "    <tr style=\"text-align: right;\">\n",
       "      <th></th>\n",
       "      <th>Skipper</th>\n",
       "      <th>Bateau</th>\n",
       "      <th>Rang</th>\n",
       "      <th>Nat. / Voile</th>\n",
       "      <th>Heure FR</th>\n",
       "      <th>Latitude</th>\n",
       "      <th>Longitude</th>\n",
       "      <th>(Depuis 30 minutes, Cap)</th>\n",
       "      <th>(Depuis 30 minutes, Vitesse)</th>\n",
       "      <th>(Depuis 30 minutes, VMG)</th>\n",
       "      <th>...</th>\n",
       "      <th>(Depuis le dernier classement, Vitesse)</th>\n",
       "      <th>(Depuis le dernier classement, VMG)</th>\n",
       "      <th>(Depuis le dernier classement, Distance)</th>\n",
       "      <th>(Depuis 24 heures, Cap)</th>\n",
       "      <th>(Depuis 24 heures, Vitesse)</th>\n",
       "      <th>(Depuis 24 heures, VMG)</th>\n",
       "      <th>(Depuis 24 heures, Distance)</th>\n",
       "      <th>DTF</th>\n",
       "      <th>DTL</th>\n",
       "      <th>time</th>\n",
       "    </tr>\n",
       "  </thead>\n",
       "  <tbody>\n",
       "    <tr>\n",
       "      <th>0</th>\n",
       "      <td>Louis Burton</td>\n",
       "      <td>Bureau Vallée 2</td>\n",
       "      <td>1</td>\n",
       "      <td>FRA 18</td>\n",
       "      <td>15:30</td>\n",
       "      <td>46°24.46'N</td>\n",
       "      <td>01°50.48'W</td>\n",
       "      <td>241°</td>\n",
       "      <td>17.7</td>\n",
       "      <td>17.5</td>\n",
       "      <td>...</td>\n",
       "      <td>0.0</td>\n",
       "      <td>0.0</td>\n",
       "      <td>2788.0</td>\n",
       "      <td>201°</td>\n",
       "      <td>0.3</td>\n",
       "      <td>0.3</td>\n",
       "      <td>6.1</td>\n",
       "      <td>24293.9</td>\n",
       "      <td>0.0</td>\n",
       "      <td>2020-11-08 14:00:00</td>\n",
       "    </tr>\n",
       "    <tr>\n",
       "      <th>1</th>\n",
       "      <td>Boris Herrmann</td>\n",
       "      <td>Seaexplorer - Yacht Club De Monaco</td>\n",
       "      <td>2</td>\n",
       "      <td>MON 10</td>\n",
       "      <td>15:31</td>\n",
       "      <td>46°24.34'N</td>\n",
       "      <td>01°49.82'W</td>\n",
       "      <td>241°</td>\n",
       "      <td>11.1</td>\n",
       "      <td>10.9</td>\n",
       "      <td>...</td>\n",
       "      <td>0.0</td>\n",
       "      <td>0.0</td>\n",
       "      <td>2787.9</td>\n",
       "      <td>196°</td>\n",
       "      <td>0.3</td>\n",
       "      <td>0.2</td>\n",
       "      <td>6.0</td>\n",
       "      <td>24294.2</td>\n",
       "      <td>0.4</td>\n",
       "      <td>2020-11-08 14:00:00</td>\n",
       "    </tr>\n",
       "    <tr>\n",
       "      <th>2</th>\n",
       "      <td>Jérémie Beyou</td>\n",
       "      <td>Charal</td>\n",
       "      <td>3</td>\n",
       "      <td>FRA 8</td>\n",
       "      <td>15:30</td>\n",
       "      <td>46°24.91'N</td>\n",
       "      <td>01°49.99'W</td>\n",
       "      <td>244°</td>\n",
       "      <td>15.5</td>\n",
       "      <td>15.5</td>\n",
       "      <td>...</td>\n",
       "      <td>0.0</td>\n",
       "      <td>0.0</td>\n",
       "      <td>2788.5</td>\n",
       "      <td>199°</td>\n",
       "      <td>0.2</td>\n",
       "      <td>0.2</td>\n",
       "      <td>5.5</td>\n",
       "      <td>24294.3</td>\n",
       "      <td>0.5</td>\n",
       "      <td>2020-11-08 14:00:00</td>\n",
       "    </tr>\n",
       "    <tr>\n",
       "      <th>3</th>\n",
       "      <td>Thomas Ruyant</td>\n",
       "      <td>LinkedOut</td>\n",
       "      <td>4</td>\n",
       "      <td>FRA 59</td>\n",
       "      <td>15:30</td>\n",
       "      <td>46°24.71'N</td>\n",
       "      <td>01°49.68'W</td>\n",
       "      <td>244°</td>\n",
       "      <td>13.2</td>\n",
       "      <td>13.1</td>\n",
       "      <td>...</td>\n",
       "      <td>0.0</td>\n",
       "      <td>0.0</td>\n",
       "      <td>2788.3</td>\n",
       "      <td>196°</td>\n",
       "      <td>0.2</td>\n",
       "      <td>0.2</td>\n",
       "      <td>5.6</td>\n",
       "      <td>24294.5</td>\n",
       "      <td>0.6</td>\n",
       "      <td>2020-11-08 14:00:00</td>\n",
       "    </tr>\n",
       "    <tr>\n",
       "      <th>4</th>\n",
       "      <td>Maxime Sorel</td>\n",
       "      <td>V And B Mayenne</td>\n",
       "      <td>5</td>\n",
       "      <td>FRA 53</td>\n",
       "      <td>15:30</td>\n",
       "      <td>46°24.59'N</td>\n",
       "      <td>01°49.56'W</td>\n",
       "      <td>246°</td>\n",
       "      <td>10.9</td>\n",
       "      <td>10.9</td>\n",
       "      <td>...</td>\n",
       "      <td>0.0</td>\n",
       "      <td>0.0</td>\n",
       "      <td>2788.1</td>\n",
       "      <td>195°</td>\n",
       "      <td>0.8</td>\n",
       "      <td>0.7</td>\n",
       "      <td>5.8</td>\n",
       "      <td>24294.5</td>\n",
       "      <td>0.6</td>\n",
       "      <td>2020-11-08 14:00:00</td>\n",
       "    </tr>\n",
       "  </tbody>\n",
       "</table>\n",
       "<p>5 rows × 22 columns</p>\n",
       "</div>"
      ],
      "text/plain": [
       "          Skipper                              Bateau  Rang Nat. / Voile  \\\n",
       "0    Louis Burton                     Bureau Vallée 2     1       FRA 18   \n",
       "1  Boris Herrmann  Seaexplorer - Yacht Club De Monaco     2       MON 10   \n",
       "2   Jérémie Beyou                              Charal     3        FRA 8   \n",
       "3   Thomas Ruyant                           LinkedOut     4       FRA 59   \n",
       "4    Maxime Sorel                     V And B Mayenne     5       FRA 53   \n",
       "\n",
       "  Heure FR    Latitude   Longitude (Depuis 30 minutes, Cap)  \\\n",
       "0   15:30   46°24.46'N  01°50.48'W                     241°   \n",
       "1   15:31   46°24.34'N  01°49.82'W                     241°   \n",
       "2   15:30   46°24.91'N  01°49.99'W                     244°   \n",
       "3   15:30   46°24.71'N  01°49.68'W                     244°   \n",
       "4   15:30   46°24.59'N  01°49.56'W                     246°   \n",
       "\n",
       "   (Depuis 30 minutes, Vitesse)  (Depuis 30 minutes, VMG)  ...  \\\n",
       "0                          17.7                      17.5  ...   \n",
       "1                          11.1                      10.9  ...   \n",
       "2                          15.5                      15.5  ...   \n",
       "3                          13.2                      13.1  ...   \n",
       "4                          10.9                      10.9  ...   \n",
       "\n",
       "   (Depuis le dernier classement, Vitesse)  \\\n",
       "0                                      0.0   \n",
       "1                                      0.0   \n",
       "2                                      0.0   \n",
       "3                                      0.0   \n",
       "4                                      0.0   \n",
       "\n",
       "  (Depuis le dernier classement, VMG)  \\\n",
       "0                                 0.0   \n",
       "1                                 0.0   \n",
       "2                                 0.0   \n",
       "3                                 0.0   \n",
       "4                                 0.0   \n",
       "\n",
       "   (Depuis le dernier classement, Distance)  (Depuis 24 heures, Cap)  \\\n",
       "0                                    2788.0                     201°   \n",
       "1                                    2787.9                     196°   \n",
       "2                                    2788.5                     199°   \n",
       "3                                    2788.3                     196°   \n",
       "4                                    2788.1                     195°   \n",
       "\n",
       "   (Depuis 24 heures, Vitesse) (Depuis 24 heures, VMG)  \\\n",
       "0                          0.3                     0.3   \n",
       "1                          0.3                     0.2   \n",
       "2                          0.2                     0.2   \n",
       "3                          0.2                     0.2   \n",
       "4                          0.8                     0.7   \n",
       "\n",
       "   (Depuis 24 heures, Distance)      DTF  DTL                time  \n",
       "0                           6.1  24293.9  0.0 2020-11-08 14:00:00  \n",
       "1                           6.0  24294.2  0.4 2020-11-08 14:00:00  \n",
       "2                           5.5  24294.3  0.5 2020-11-08 14:00:00  \n",
       "3                           5.6  24294.5  0.6 2020-11-08 14:00:00  \n",
       "4                           5.8  24294.5  0.6 2020-11-08 14:00:00  \n",
       "\n",
       "[5 rows x 22 columns]"
      ]
     },
     "execution_count": 4,
     "metadata": {},
     "output_type": "execute_result"
    }
   ],
   "source": [
    "df_classement = pd.DataFrame()\n",
    "\n",
    "files = glob.glob('files/*.xlsx')\n",
    "for filename in files:\n",
    "    df = pd.read_excel(filename,header=[3,4])\n",
    "    \n",
    "    # supprimer les parties anglais dans les noms des colonnes\n",
    "    l0 = list(df.columns.levels[0])\n",
    "    d0 = {item : item.split('\\n')[0] for item in l0}\n",
    "    l1 = list(df.columns.levels[1])\n",
    "    d1 = {item : item.split('\\n')[0] for item in l1}\n",
    "    df = df.rename(columns=d0, level=0).rename(columns=d1, level=1)\n",
    "\n",
    "    # transformer les noms des colonnes multi-index à un seul niveau\n",
    "    df.columns = df.columns.to_flat_index()\n",
    "    \n",
    "    # supprimer les lignes et les colonnes qui n'ont presque que des NaN\n",
    "    df = df.dropna(axis=0, thresh=4).dropna(axis=1, how='all')\n",
    "    \n",
    "    # renommer certains colonnes\n",
    "    df = df.rename(columns = {('Rang', 'Unnamed: 1_level_1'): 'Rang',\n",
    "                              ('Nat. / Voile', 'Unnamed: 2_level_1'): 'Nat. / Voile',\n",
    "                              ('Skipper / Bateau', 'Unnamed: 3_level_1'): 'Skipper / Bateau',\n",
    "                              ('Skipper / Bateau', 'Heure FR'): 'Heure FR',\n",
    "                              ('Skipper / Bateau', 'Latitude'): 'Latitude',\n",
    "                              ('Skipper / Bateau', 'Longitude'): 'Longitude',\n",
    "                              ('DTF', 'Unnamed: 19_level_1'): 'DTF',\n",
    "                              ('DTL', 'Unnamed: 20_level_1'): 'DTL'})\n",
    "\n",
    "    # supprimer la première ligne dans la colonne \"Nat. / Voile\"\n",
    "    df[\"Nat. / Voile\"] = df[\"Nat. / Voile\"].str.extract('.*\\\\n(.*)')\n",
    "\n",
    "    # séparer la colonne \"Skipper / Bateau\" en deux et les mettre en avant\n",
    "    df[[\"Skipper\",\"Bateau\"]] = df[\"Skipper / Bateau\"].str.extract('(.*)\\\\n(.*)')\n",
    "    df.drop('Skipper / Bateau', axis=1, inplace=True)\n",
    "    c = df.columns.tolist()\n",
    "    c = c[-2:] + c[:-2]\n",
    "    df = df.reindex(columns=c)\n",
    "    \n",
    "    # récupérer l'heure dans la colonne \"Heure FR\"\n",
    "    df[\"Heure FR\"] = df[\"Heure FR\"].str.extract('(.*)FR.*')\n",
    "\n",
    "    # convertir les vitesses et les distances de chaine de caractère en floatant\n",
    "    cols = [('Depuis 30 minutes', 'Vitesse'), ('Depuis 30 minutes', 'VMG'), ('Depuis 30 minutes', 'Distance'),\n",
    "            ('Depuis le dernier classement', 'Vitesse'), ('Depuis le dernier classement', 'VMG'), ('Depuis le dernier classement', 'Distance'),\n",
    "            ('Depuis 24 heures', 'Vitesse'), ('Depuis 24 heures', 'VMG'), ('Depuis 24 heures', 'Distance'),\n",
    "            \"DTF\", \"DTL\"]\n",
    "    for col in cols:\n",
    "        df[col] = df[col].str.extract('(.*) .*')\n",
    "        df[col] = df[col].apply(float)\n",
    "\n",
    "    # transformer le rang en entier\n",
    "    df[\"Rang\"] = df[\"Rang\"].apply(int)\n",
    "    \n",
    "    # ajouter le filename comme un timestamp dans chaque dataframe\n",
    "    df[\"time\"] = datetime.datetime.strptime(filename[6:-5], \"%Y%m%d_%H0000\")\n",
    "    \n",
    "    # concaténation des dataframes \n",
    "    df_classement = df_classement.append(df, ignore_index=True)\n",
    "\n",
    "df_classement.head()"
   ]
  },
  {
   "cell_type": "code",
   "execution_count": 5,
   "id": "e30a0c6d",
   "metadata": {},
   "outputs": [
    {
     "name": "stdout",
     "output_type": "stream",
     "text": [
      "<class 'pandas.core.frame.DataFrame'>\n",
      "RangeIndex: 13703 entries, 0 to 13702\n",
      "Data columns (total 22 columns):\n",
      " #   Column                                    Non-Null Count  Dtype         \n",
      "---  ------                                    --------------  -----         \n",
      " 0   Skipper                                   13703 non-null  object        \n",
      " 1   Bateau                                    13703 non-null  object        \n",
      " 2   Rang                                      13703 non-null  int64         \n",
      " 3   Nat. / Voile                              13703 non-null  object        \n",
      " 4   Heure FR                                  13703 non-null  object        \n",
      " 5   Latitude                                  13703 non-null  object        \n",
      " 6   Longitude                                 13703 non-null  object        \n",
      " 7   (Depuis 30 minutes, Cap)                  13703 non-null  object        \n",
      " 8   (Depuis 30 minutes, Vitesse)              13703 non-null  float64       \n",
      " 9   (Depuis 30 minutes, VMG)                  13703 non-null  float64       \n",
      " 10  (Depuis 30 minutes, Distance)             13703 non-null  float64       \n",
      " 11  (Depuis le dernier classement, Cap)       13703 non-null  object        \n",
      " 12  (Depuis le dernier classement, Vitesse)   13703 non-null  float64       \n",
      " 13  (Depuis le dernier classement, VMG)       13703 non-null  float64       \n",
      " 14  (Depuis le dernier classement, Distance)  13703 non-null  float64       \n",
      " 15  (Depuis 24 heures, Cap)                   13703 non-null  object        \n",
      " 16  (Depuis 24 heures, Vitesse)               13703 non-null  float64       \n",
      " 17  (Depuis 24 heures, VMG)                   13703 non-null  float64       \n",
      " 18  (Depuis 24 heures, Distance)              13703 non-null  float64       \n",
      " 19  DTF                                       13703 non-null  float64       \n",
      " 20  DTL                                       13703 non-null  float64       \n",
      " 21  time                                      13703 non-null  datetime64[ns]\n",
      "dtypes: datetime64[ns](1), float64(11), int64(1), object(9)\n",
      "memory usage: 2.3+ MB\n"
     ]
    }
   ],
   "source": [
    "df_classement.info()"
   ]
  },
  {
   "cell_type": "code",
   "execution_count": 6,
   "id": "f594923f",
   "metadata": {},
   "outputs": [],
   "source": [
    "df_classement.to_excel(\"classements.xlsx\")"
   ]
  },
  {
   "cell_type": "markdown",
   "id": "d38d197b",
   "metadata": {},
   "source": [
    "### Extraction des caractéristiques techniques de chacun des voiliers"
   ]
  },
  {
   "cell_type": "code",
   "execution_count": 7,
   "id": "e0f440c8",
   "metadata": {},
   "outputs": [
    {
     "data": {
      "text/html": [
       "<div>\n",
       "<style scoped>\n",
       "    .dataframe tbody tr th:only-of-type {\n",
       "        vertical-align: middle;\n",
       "    }\n",
       "\n",
       "    .dataframe tbody tr th {\n",
       "        vertical-align: top;\n",
       "    }\n",
       "\n",
       "    .dataframe thead th {\n",
       "        text-align: right;\n",
       "    }\n",
       "</style>\n",
       "<table border=\"1\" class=\"dataframe\">\n",
       "  <thead>\n",
       "    <tr style=\"text-align: right;\">\n",
       "      <th></th>\n",
       "      <th>Skipper</th>\n",
       "      <th>Numéro de voile</th>\n",
       "      <th>Architecte</th>\n",
       "      <th>Chantier</th>\n",
       "      <th>Date de lancement</th>\n",
       "      <th>Longueur</th>\n",
       "      <th>Largeur</th>\n",
       "      <th>Tirant d'eau</th>\n",
       "      <th>Déplacement (poids)</th>\n",
       "      <th>Nombre de dérives</th>\n",
       "      <th>Hauteur mât</th>\n",
       "      <th>Voile quille</th>\n",
       "      <th>Surface de voiles au près</th>\n",
       "      <th>Surface de voiles au portant</th>\n",
       "    </tr>\n",
       "  </thead>\n",
       "  <tbody>\n",
       "    <tr>\n",
       "      <th>0</th>\n",
       "      <td>Fabrice Amedeo</td>\n",
       "      <td>FRA 56</td>\n",
       "      <td>VPLP/Verdier</td>\n",
       "      <td>Persico Marine</td>\n",
       "      <td>01 Août 2015</td>\n",
       "      <td>18.28</td>\n",
       "      <td>5.85</td>\n",
       "      <td>4.5</td>\n",
       "      <td>7.0</td>\n",
       "      <td>foils</td>\n",
       "      <td>29.0</td>\n",
       "      <td>monotype</td>\n",
       "      <td>320.0</td>\n",
       "      <td>570.0</td>\n",
       "    </tr>\n",
       "    <tr>\n",
       "      <th>1</th>\n",
       "      <td>Romain Attanasio</td>\n",
       "      <td>FRA 49</td>\n",
       "      <td>Bruce Farr Design</td>\n",
       "      <td>Southern Ocean Marine (Nouvelle Zélande)</td>\n",
       "      <td>08 Mars 2007</td>\n",
       "      <td>18.28</td>\n",
       "      <td>5.80</td>\n",
       "      <td>4.5</td>\n",
       "      <td>9.0</td>\n",
       "      <td>pas de foils</td>\n",
       "      <td>28.0</td>\n",
       "      <td>acier forgé</td>\n",
       "      <td>280.0</td>\n",
       "      <td>560.0</td>\n",
       "    </tr>\n",
       "    <tr>\n",
       "      <th>2</th>\n",
       "      <td>Alexia Barrier</td>\n",
       "      <td>FRA72</td>\n",
       "      <td>Marc Lombard</td>\n",
       "      <td>MAG France</td>\n",
       "      <td>01 Mars 1998</td>\n",
       "      <td>18.28</td>\n",
       "      <td>5.54</td>\n",
       "      <td>4.5</td>\n",
       "      <td>9.0</td>\n",
       "      <td>pas de foils</td>\n",
       "      <td>29.0</td>\n",
       "      <td>acier</td>\n",
       "      <td>260.0</td>\n",
       "      <td>580.0</td>\n",
       "    </tr>\n",
       "    <tr>\n",
       "      <th>3</th>\n",
       "      <td>Yannick Bestaven</td>\n",
       "      <td>17</td>\n",
       "      <td>Verdier - VPLP</td>\n",
       "      <td>CDK Technologies</td>\n",
       "      <td>12 Mars 2015</td>\n",
       "      <td>18.28</td>\n",
       "      <td>5.80</td>\n",
       "      <td>4.5</td>\n",
       "      <td>8.0</td>\n",
       "      <td>foils</td>\n",
       "      <td>29.0</td>\n",
       "      <td>acier mécano soudé</td>\n",
       "      <td>310.0</td>\n",
       "      <td>550.0</td>\n",
       "    </tr>\n",
       "    <tr>\n",
       "      <th>4</th>\n",
       "      <td>Jérémie Beyou</td>\n",
       "      <td>08</td>\n",
       "      <td>VPLP</td>\n",
       "      <td>CDK Technologies</td>\n",
       "      <td>18 Août 2018</td>\n",
       "      <td>18.28</td>\n",
       "      <td>5.85</td>\n",
       "      <td>4.5</td>\n",
       "      <td>8.0</td>\n",
       "      <td>foils</td>\n",
       "      <td>29.0</td>\n",
       "      <td>acier</td>\n",
       "      <td>320.0</td>\n",
       "      <td>600.0</td>\n",
       "    </tr>\n",
       "  </tbody>\n",
       "</table>\n",
       "</div>"
      ],
      "text/plain": [
       "0           Skipper Numéro de voile         Architecte  \\\n",
       "0    Fabrice Amedeo          FRA 56       VPLP/Verdier   \n",
       "1  Romain Attanasio          FRA 49  Bruce Farr Design   \n",
       "2    Alexia Barrier           FRA72       Marc Lombard   \n",
       "3  Yannick Bestaven              17     Verdier - VPLP   \n",
       "4     Jérémie Beyou              08               VPLP   \n",
       "\n",
       "0                                  Chantier Date de lancement  Longueur  \\\n",
       "0                            Persico Marine      01 Août 2015     18.28   \n",
       "1  Southern Ocean Marine (Nouvelle Zélande)      08 Mars 2007     18.28   \n",
       "2                                MAG France      01 Mars 1998     18.28   \n",
       "3                          CDK Technologies      12 Mars 2015     18.28   \n",
       "4                          CDK Technologies      18 Août 2018     18.28   \n",
       "\n",
       "0  Largeur  Tirant d'eau  Déplacement (poids) Nombre de dérives  Hauteur mât  \\\n",
       "0     5.85           4.5                  7.0             foils         29.0   \n",
       "1     5.80           4.5                  9.0      pas de foils         28.0   \n",
       "2     5.54           4.5                  9.0      pas de foils         29.0   \n",
       "3     5.80           4.5                  8.0             foils         29.0   \n",
       "4     5.85           4.5                  8.0             foils         29.0   \n",
       "\n",
       "0        Voile quille  Surface de voiles au près  Surface de voiles au portant  \n",
       "0            monotype                      320.0                         570.0  \n",
       "1         acier forgé                      280.0                         560.0  \n",
       "2               acier                      260.0                         580.0  \n",
       "3  acier mécano soudé                      310.0                         550.0  \n",
       "4               acier                      320.0                         600.0  "
      ]
     },
     "execution_count": 7,
     "metadata": {},
     "output_type": "execute_result"
    }
   ],
   "source": [
    "r = requests.get(\"https://www.vendeeglobe.org/fr/glossaire\")\n",
    "soup = BeautifulSoup(r.content, 'html.parser')\n",
    "df_voilier = pd.DataFrame()\n",
    "\n",
    "for boat in soup.find_all('div', class_=\"sv-u-1 sv-u-s-1-2 sv-u-m-1-3 sv-u-l-1-6\"):\n",
    "    # récupération des informations techniques des voiliers\n",
    "    l = []\n",
    "    for li in boat.find_all('li'):\n",
    "        l.append(li.text)\n",
    "    s = pd.Series(l).str.extract('(.*) : (.*)')\n",
    "    df = s.set_index(0).transpose()\n",
    "    \n",
    "    # récupération du nom du skipper et l'ajout dans la dataframe en le mettant en avant\n",
    "    df[\"Skipper\"] = boat.find('span', class_='boats-list__skipper-name')\n",
    "    df[\"Skipper\"] = df[\"Skipper\"].apply(str.title)\n",
    "    cols = df.columns.tolist()\n",
    "    cols = cols[-1:] + cols[:-1]\n",
    "    df = df[cols]\n",
    "    \n",
    "    # concaténation des dataframes \n",
    "    df_voilier = df_voilier.append(df, ignore_index=True)\n",
    "\n",
    "# supprimer les colonnes qui n'ont presque que des NaN\n",
    "df_voilier = df_voilier.drop(['Anciens noms du bateau', 'Chantier : CDK Technologies / Assemblage'], axis=1)\n",
    "\n",
    "# afficher les lignes contenant au moins un NaN\n",
    "#df_voilier[df_voilier.isnull().any(axis=1)]\n",
    "\n",
    "# convertir les colonnes numeriques de chaine de caractère en floatant\n",
    "cols_num = [\"Longueur\",\"Largeur\",\"Tirant d'eau\",\"Déplacement (poids)\",\"Hauteur mât\",\"Surface de voiles au près\",\"Surface de voiles au portant\"]\n",
    "for col in cols_num:\n",
    "    df_voilier[col] = df_voilier[col].str.replace(\",\",\".\")\n",
    "    df_voilier[col] = df_voilier[col].str.extract('([0-9]+[\\.]*[0-9]*).*')\n",
    "    df_voilier[col] = df_voilier[col].apply(float)\n",
    "\n",
    "# harmoniser la colonne foils\n",
    "dict = {\"foils\":\"foils\",\"foiler\":\"foils\",\"2\":\"pas de foils\",\"2 asymétriques\":\"pas de foils\"}\n",
    "df_voilier[\"Nombre de dérives\"] = df_voilier[\"Nombre de dérives\"].map(dict)\n",
    "\n",
    "df_voilier.head()"
   ]
  },
  {
   "cell_type": "code",
   "execution_count": 8,
   "id": "3a1754d6",
   "metadata": {},
   "outputs": [
    {
     "name": "stdout",
     "output_type": "stream",
     "text": [
      "<class 'pandas.core.frame.DataFrame'>\n",
      "RangeIndex: 33 entries, 0 to 32\n",
      "Data columns (total 14 columns):\n",
      " #   Column                        Non-Null Count  Dtype  \n",
      "---  ------                        --------------  -----  \n",
      " 0   Skipper                       33 non-null     object \n",
      " 1   Numéro de voile               32 non-null     object \n",
      " 2   Architecte                    33 non-null     object \n",
      " 3   Chantier                      32 non-null     object \n",
      " 4   Date de lancement             33 non-null     object \n",
      " 5   Longueur                      33 non-null     float64\n",
      " 6   Largeur                       33 non-null     float64\n",
      " 7   Tirant d'eau                  33 non-null     float64\n",
      " 8   Déplacement (poids)           31 non-null     float64\n",
      " 9   Nombre de dérives             33 non-null     object \n",
      " 10  Hauteur mât                   33 non-null     float64\n",
      " 11  Voile quille                  32 non-null     object \n",
      " 12  Surface de voiles au près     33 non-null     float64\n",
      " 13  Surface de voiles au portant  33 non-null     float64\n",
      "dtypes: float64(7), object(7)\n",
      "memory usage: 3.7+ KB\n"
     ]
    }
   ],
   "source": [
    "df_voilier.info()"
   ]
  },
  {
   "cell_type": "code",
   "execution_count": 9,
   "id": "2b375ffe",
   "metadata": {},
   "outputs": [],
   "source": [
    "df_voilier.to_excel(\"voiliers.xlsx\")"
   ]
  },
  {
   "cell_type": "markdown",
   "id": "6fc4321f",
   "metadata": {},
   "source": [
    "### Rapprochement des données des voiliers avec celle des classements"
   ]
  },
  {
   "cell_type": "code",
   "execution_count": 10,
   "id": "06287e04",
   "metadata": {},
   "outputs": [
    {
     "data": {
      "text/html": [
       "<div>\n",
       "<style scoped>\n",
       "    .dataframe tbody tr th:only-of-type {\n",
       "        vertical-align: middle;\n",
       "    }\n",
       "\n",
       "    .dataframe tbody tr th {\n",
       "        vertical-align: top;\n",
       "    }\n",
       "\n",
       "    .dataframe thead th {\n",
       "        text-align: right;\n",
       "    }\n",
       "</style>\n",
       "<table border=\"1\" class=\"dataframe\">\n",
       "  <thead>\n",
       "    <tr style=\"text-align: right;\">\n",
       "      <th></th>\n",
       "      <th>Skipper</th>\n",
       "      <th>Bateau</th>\n",
       "      <th>Rang</th>\n",
       "      <th>Nat. / Voile</th>\n",
       "      <th>Heure FR</th>\n",
       "      <th>Latitude</th>\n",
       "      <th>Longitude</th>\n",
       "      <th>(Depuis 30 minutes, Cap)</th>\n",
       "      <th>(Depuis 30 minutes, Vitesse)</th>\n",
       "      <th>(Depuis 30 minutes, VMG)</th>\n",
       "      <th>...</th>\n",
       "      <th>Date de lancement</th>\n",
       "      <th>Longueur</th>\n",
       "      <th>Largeur</th>\n",
       "      <th>Tirant d'eau</th>\n",
       "      <th>Déplacement (poids)</th>\n",
       "      <th>Nombre de dérives</th>\n",
       "      <th>Hauteur mât</th>\n",
       "      <th>Voile quille</th>\n",
       "      <th>Surface de voiles au près</th>\n",
       "      <th>Surface de voiles au portant</th>\n",
       "    </tr>\n",
       "  </thead>\n",
       "  <tbody>\n",
       "    <tr>\n",
       "      <th>0</th>\n",
       "      <td>Louis Burton</td>\n",
       "      <td>Bureau Vallée 2</td>\n",
       "      <td>1</td>\n",
       "      <td>FRA 18</td>\n",
       "      <td>15:30</td>\n",
       "      <td>46°24.46'N</td>\n",
       "      <td>01°50.48'W</td>\n",
       "      <td>241°</td>\n",
       "      <td>17.7</td>\n",
       "      <td>17.5</td>\n",
       "      <td>...</td>\n",
       "      <td>09 Juin 2015</td>\n",
       "      <td>18.28</td>\n",
       "      <td>5.8</td>\n",
       "      <td>4.5</td>\n",
       "      <td>7.6</td>\n",
       "      <td>foils</td>\n",
       "      <td>28.0</td>\n",
       "      <td>acier</td>\n",
       "      <td>300.0</td>\n",
       "      <td>600.0</td>\n",
       "    </tr>\n",
       "    <tr>\n",
       "      <th>1</th>\n",
       "      <td>Louis Burton</td>\n",
       "      <td>Bureau Vallée 2</td>\n",
       "      <td>8</td>\n",
       "      <td>FRA 18</td>\n",
       "      <td>17:00</td>\n",
       "      <td>46°21.27'N</td>\n",
       "      <td>02°30.26'W</td>\n",
       "      <td>269°</td>\n",
       "      <td>20.9</td>\n",
       "      <td>18.0</td>\n",
       "      <td>...</td>\n",
       "      <td>09 Juin 2015</td>\n",
       "      <td>18.28</td>\n",
       "      <td>5.8</td>\n",
       "      <td>4.5</td>\n",
       "      <td>7.6</td>\n",
       "      <td>foils</td>\n",
       "      <td>28.0</td>\n",
       "      <td>acier</td>\n",
       "      <td>300.0</td>\n",
       "      <td>600.0</td>\n",
       "    </tr>\n",
       "    <tr>\n",
       "      <th>2</th>\n",
       "      <td>Louis Burton</td>\n",
       "      <td>Bureau Vallée 2</td>\n",
       "      <td>11</td>\n",
       "      <td>FRA 18</td>\n",
       "      <td>18:30</td>\n",
       "      <td>46°21.73'N</td>\n",
       "      <td>03°17.02'W</td>\n",
       "      <td>271°</td>\n",
       "      <td>20.3</td>\n",
       "      <td>16.4</td>\n",
       "      <td>...</td>\n",
       "      <td>09 Juin 2015</td>\n",
       "      <td>18.28</td>\n",
       "      <td>5.8</td>\n",
       "      <td>4.5</td>\n",
       "      <td>7.6</td>\n",
       "      <td>foils</td>\n",
       "      <td>28.0</td>\n",
       "      <td>acier</td>\n",
       "      <td>300.0</td>\n",
       "      <td>600.0</td>\n",
       "    </tr>\n",
       "    <tr>\n",
       "      <th>3</th>\n",
       "      <td>Louis Burton</td>\n",
       "      <td>Bureau Vallée 2</td>\n",
       "      <td>8</td>\n",
       "      <td>FRA 18</td>\n",
       "      <td>22:30</td>\n",
       "      <td>46°16.47'N</td>\n",
       "      <td>04°47.79'W</td>\n",
       "      <td>262°</td>\n",
       "      <td>12.3</td>\n",
       "      <td>10.1</td>\n",
       "      <td>...</td>\n",
       "      <td>09 Juin 2015</td>\n",
       "      <td>18.28</td>\n",
       "      <td>5.8</td>\n",
       "      <td>4.5</td>\n",
       "      <td>7.6</td>\n",
       "      <td>foils</td>\n",
       "      <td>28.0</td>\n",
       "      <td>acier</td>\n",
       "      <td>300.0</td>\n",
       "      <td>600.0</td>\n",
       "    </tr>\n",
       "    <tr>\n",
       "      <th>4</th>\n",
       "      <td>Louis Burton</td>\n",
       "      <td>Bureau Vallée 2</td>\n",
       "      <td>11</td>\n",
       "      <td>FRA 18</td>\n",
       "      <td>05:30</td>\n",
       "      <td>46°28.36'N</td>\n",
       "      <td>07°03.84'W</td>\n",
       "      <td>294°</td>\n",
       "      <td>13.9</td>\n",
       "      <td>0.4</td>\n",
       "      <td>...</td>\n",
       "      <td>09 Juin 2015</td>\n",
       "      <td>18.28</td>\n",
       "      <td>5.8</td>\n",
       "      <td>4.5</td>\n",
       "      <td>7.6</td>\n",
       "      <td>foils</td>\n",
       "      <td>28.0</td>\n",
       "      <td>acier</td>\n",
       "      <td>300.0</td>\n",
       "      <td>600.0</td>\n",
       "    </tr>\n",
       "  </tbody>\n",
       "</table>\n",
       "<p>5 rows × 35 columns</p>\n",
       "</div>"
      ],
      "text/plain": [
       "        Skipper           Bateau  Rang Nat. / Voile Heure FR    Latitude  \\\n",
       "0  Louis Burton  Bureau Vallée 2     1       FRA 18   15:30   46°24.46'N   \n",
       "1  Louis Burton  Bureau Vallée 2     8       FRA 18   17:00   46°21.27'N   \n",
       "2  Louis Burton  Bureau Vallée 2    11       FRA 18   18:30   46°21.73'N   \n",
       "3  Louis Burton  Bureau Vallée 2     8       FRA 18   22:30   46°16.47'N   \n",
       "4  Louis Burton  Bureau Vallée 2    11       FRA 18   05:30   46°28.36'N   \n",
       "\n",
       "    Longitude (Depuis 30 minutes, Cap)  (Depuis 30 minutes, Vitesse)  \\\n",
       "0  01°50.48'W                     241°                          17.7   \n",
       "1  02°30.26'W                     269°                          20.9   \n",
       "2  03°17.02'W                     271°                          20.3   \n",
       "3  04°47.79'W                     262°                          12.3   \n",
       "4  07°03.84'W                     294°                          13.9   \n",
       "\n",
       "   (Depuis 30 minutes, VMG)  ...  Date de lancement Longueur  Largeur  \\\n",
       "0                      17.5  ...       09 Juin 2015    18.28      5.8   \n",
       "1                      18.0  ...       09 Juin 2015    18.28      5.8   \n",
       "2                      16.4  ...       09 Juin 2015    18.28      5.8   \n",
       "3                      10.1  ...       09 Juin 2015    18.28      5.8   \n",
       "4                       0.4  ...       09 Juin 2015    18.28      5.8   \n",
       "\n",
       "   Tirant d'eau  Déplacement (poids) Nombre de dérives  Hauteur mât  \\\n",
       "0           4.5                  7.6             foils         28.0   \n",
       "1           4.5                  7.6             foils         28.0   \n",
       "2           4.5                  7.6             foils         28.0   \n",
       "3           4.5                  7.6             foils         28.0   \n",
       "4           4.5                  7.6             foils         28.0   \n",
       "\n",
       "   Voile quille  Surface de voiles au près  Surface de voiles au portant  \n",
       "0         acier                      300.0                         600.0  \n",
       "1         acier                      300.0                         600.0  \n",
       "2         acier                      300.0                         600.0  \n",
       "3         acier                      300.0                         600.0  \n",
       "4         acier                      300.0                         600.0  \n",
       "\n",
       "[5 rows x 35 columns]"
      ]
     },
     "execution_count": 10,
     "metadata": {},
     "output_type": "execute_result"
    }
   ],
   "source": [
    "df_merge = pd.merge(df_classement,\n",
    "                    df_voilier,\n",
    "                    left_on='Skipper',\n",
    "                    right_on='Skipper')\n",
    "df_merge.head()"
   ]
  },
  {
   "cell_type": "code",
   "execution_count": 11,
   "id": "cf1080f5",
   "metadata": {},
   "outputs": [],
   "source": [
    "df_merge.to_excel(\"merged.xlsx\")"
   ]
  },
  {
   "cell_type": "markdown",
   "id": "00b77d11",
   "metadata": {},
   "source": [
    "### Impact de la présence d'un foil sur le classement et la vitesse des voiliers"
   ]
  },
  {
   "cell_type": "code",
   "execution_count": 12,
   "id": "a1074cf6",
   "metadata": {},
   "outputs": [
    {
     "data": {
      "image/png": "[encoded data removed]",
      "text/plain": [
       "<Figure size 360x360 with 1 Axes>"
      ]
     },
     "metadata": {
      "needs_background": "light"
     },
     "output_type": "display_data"
    }
   ],
   "source": [
    "sns.catplot(data=df_merge, x=\"Nombre de dérives\", y=\"Rang\", kind=\"bar\", ci=None)\n",
    "plt.show()"
   ]
  },
  {
   "cell_type": "code",
   "execution_count": 13,
   "id": "c69f33a6",
   "metadata": {},
   "outputs": [
    {
     "data": {
      "image/png": "[encoded data removed]",
      "text/plain": [
       "<Figure size 360x360 with 1 Axes>"
      ]
     },
     "metadata": {
      "needs_background": "light"
     },
     "output_type": "display_data"
    }
   ],
   "source": [
    "sns.catplot(data=df_merge, x=\"Nombre de dérives\", y=('Depuis 30 minutes', 'VMG'), kind=\"bar\", ci=None)\n",
    "plt.show()"
   ]
  },
  {
   "cell_type": "code",
   "execution_count": 14,
   "id": "34b98adb",
   "metadata": {},
   "outputs": [
    {
     "data": {
      "image/png": "[encoded data removed]",
      "text/plain": [
       "<Figure size 360x360 with 1 Axes>"
      ]
     },
     "metadata": {
      "needs_background": "light"
     },
     "output_type": "display_data"
    }
   ],
   "source": [
    "sns.catplot(data=df_merge, x=\"Nombre de dérives\", y=(\"Depuis le dernier classement\", \"VMG\"), kind=\"bar\", ci=None)\n",
    "plt.show()"
   ]
  },
  {
   "cell_type": "code",
   "execution_count": 15,
   "id": "b2f3896d",
   "metadata": {},
   "outputs": [
    {
     "data": {
      "image/png": "[encoded data removed]",
      "text/plain": [
       "<Figure size 360x360 with 1 Axes>"
      ]
     },
     "metadata": {
      "needs_background": "light"
     },
     "output_type": "display_data"
    }
   ],
   "source": [
    "sns.catplot(data=df_merge, x=\"Nombre de dérives\", y=(\"Depuis 24 heures\", \"VMG\"), kind=\"bar\", ci=None)\n",
    "plt.show()"
   ]
  },
  {
   "cell_type": "markdown",
   "id": "b1aacf6a",
   "metadata": {},
   "source": [
    "Conclusion : Il semble que la présence d'un foil a un impact sur le classement et la vitesse des voiliers."
   ]
  },
  {
   "cell_type": "markdown",
   "id": "e9effa51",
   "metadata": {},
   "source": [
    "### Impact de différents caractéristiques techniques des voiliers sur le classement"
   ]
  },
  {
   "cell_type": "code",
   "execution_count": 16,
   "id": "479af26a",
   "metadata": {},
   "outputs": [
    {
     "data": {
      "image/png": "[encoded data removed]",
      "text/plain": [
       "<Figure size 720x360 with 1 Axes>"
      ]
     },
     "metadata": {
      "needs_background": "light"
     },
     "output_type": "display_data"
    },
    {
     "data": {
      "image/png": "[encoded data removed]",
      "text/plain": [
       "<Figure size 720x360 with 1 Axes>"
      ]
     },
     "metadata": {
      "needs_background": "light"
     },
     "output_type": "display_data"
    },
    {
     "data": {
      "image/png": "[encoded data removed]",
      "text/plain": [
       "<Figure size 720x360 with 1 Axes>"
      ]
     },
     "metadata": {
      "needs_background": "light"
     },
     "output_type": "display_data"
    },
    {
     "data": {
      "image/png": "[encoded data removed]",
      "text/plain": [
       "<Figure size 720x360 with 1 Axes>"
      ]
     },
     "metadata": {
      "needs_background": "light"
     },
     "output_type": "display_data"
    },
    {
     "data": {
      "image/png": "[encoded data removed]",
      "text/plain": [
       "<Figure size 720x360 with 1 Axes>"
      ]
     },
     "metadata": {
      "needs_background": "light"
     },
     "output_type": "display_data"
    }
   ],
   "source": [
    "for col in [\"Largeur\",\"Déplacement (poids)\",\"Hauteur mât\",\"Surface de voiles au près\",\"Surface de voiles au portant\"]:\n",
    "    sns.catplot(data=df_merge, x=col, y=\"Rang\", kind=\"bar\", aspect=2, ci=None)\n",
    "    plt.show()"
   ]
  },
  {
   "cell_type": "markdown",
   "id": "7cad2259",
   "metadata": {},
   "source": [
    "Conclusion : Il semble que les caractéristiques des voiliers ont un impact sur leur classement."
   ]
  },
  {
   "cell_type": "markdown",
   "id": "83248d91",
   "metadata": {},
   "source": [
    "### Visualisation de la distance parcourue par voilier"
   ]
  },
  {
   "cell_type": "code",
   "execution_count": 17,
   "id": "cd356758",
   "metadata": {},
   "outputs": [],
   "source": [
    "df1 = df_merge.groupby([\"Bateau\",df_merge[\"time\"].dt.date]).last()\n",
    "df2 = pd.DataFrame()\n",
    "df2[\"Bateau\"] = df1.droplevel(1).index.unique().values\n",
    "df2[\"Distance Parcourue\"] = df1[('Depuis 24 heures', 'Distance')].sum(level=0).values"
   ]
  },
  {
   "cell_type": "code",
   "execution_count": 18,
   "id": "90ec7da3",
   "metadata": {},
   "outputs": [
    {
     "data": {
      "image/png": "[encoded data removed]",
      "text/plain": [
       "<Figure size 720x360 with 1 Axes>"
      ]
     },
     "metadata": {
      "needs_background": "light"
     },
     "output_type": "display_data"
    }
   ],
   "source": [
    "sns.catplot(data=df2, x=\"Distance Parcourue\", y=\"Bateau\", orient=\"h\", kind=\"bar\", aspect=2, ci=None)\n",
    "plt.show()"
   ]
  },
  {
   "cell_type": "code",
   "execution_count": null,
   "id": "f2bedc04",
   "metadata": {},
   "outputs": [],
   "source": []
  }
 ],
 "metadata": {
  "kernelspec": {
   "display_name": "Python 3",
   "language": "python",
   "name": "python3"
  },
  "language_info": {
   "codemirror_mode": {
    "name": "ipython",
    "version": 3
   },
   "file_extension": ".py",
   "mimetype": "text/x-python",
   "name": "python",
   "nbconvert_exporter": "python",
   "pygments_lexer": "ipython3",
   "version": "3.8.8"
  }
 },
 "nbformat": 4,
 "nbformat_minor": 5
}
